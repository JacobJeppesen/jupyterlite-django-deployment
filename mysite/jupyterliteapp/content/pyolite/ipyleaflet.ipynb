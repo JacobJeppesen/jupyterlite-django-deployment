{
  "metadata": {
    "kernelspec": {
      "name": "python",
      "display_name": "Pyolite",
      "language": "python"
    },
    "language_info": {
      "codemirror_mode": {
        "name": "python",
        "version": 3
      },
      "file_extension": ".py",
      "mimetype": "text/x-python",
      "name": "python",
      "nbconvert_exporter": "python",
      "pygments_lexer": "ipython3",
      "version": "3.8"
    }
  },
  "nbformat_minor": 4,
  "nbformat": 4,
  "cells": [
    {
      "cell_type": "code",
      "source": "import piplite\nawait piplite.install(['bqplot', 'ipyleaflet'])",
      "metadata": {
        "trusted": true
      },
      "execution_count": null,
      "outputs": []
    },
    {
      "cell_type": "code",
      "source": "import os\nimport io\nimport json\nfrom urllib.request import urlopen\nfrom datetime import datetime\n\nimport numpy as np\nimport pandas as pd\n\nfrom js import fetch\n\nfrom ipywidgets import Dropdown\n\nfrom bqplot import Lines, Figure, LinearScale, DateScale, Axis\n\nfrom ipyleaflet import Map, GeoJSON, WidgetControl",
      "metadata": {
        "trusted": true
      },
      "execution_count": null,
      "outputs": []
    },
    {
      "cell_type": "code",
      "source": "URL = \"https://raw.githubusercontent.com/jupyter-widgets/ipyleaflet/master/examples/nations.json\"\nresp = await fetch(URL)\ntext = io.BytesIO((await resp.arrayBuffer()).to_py())",
      "metadata": {
        "trusted": true
      },
      "execution_count": null,
      "outputs": []
    },
    {
      "cell_type": "code",
      "source": "data = pd.read_json(text)",
      "metadata": {
        "trusted": true
      },
      "execution_count": null,
      "outputs": []
    },
    {
      "cell_type": "code",
      "source": "def clean_data(data):\n    for column in ['income', 'lifeExpectancy', 'population']:\n        data = data.drop(data[data[column].apply(len) <= 4].index)\n    return data\n\ndef extrap_interp(data):\n    data = np.array(data)\n    x_range = np.arange(1800, 2009, 1.)\n    y_range = np.interp(x_range, data[:, 0], data[:, 1])\n    return y_range\n\ndef extrap_data(data):\n    for column in ['income', 'lifeExpectancy', 'population']:\n        data[column] = data[column].apply(extrap_interp)\n    return data",
      "metadata": {
        "trusted": true
      },
      "execution_count": null,
      "outputs": []
    },
    {
      "cell_type": "code",
      "source": "data = clean_data(data)\ndata = extrap_data(data)",
      "metadata": {
        "trusted": true
      },
      "execution_count": null,
      "outputs": []
    },
    {
      "cell_type": "code",
      "source": "data",
      "metadata": {
        "trusted": true
      },
      "execution_count": null,
      "outputs": []
    },
    {
      "cell_type": "code",
      "source": "date_start = datetime(1800, 12, 31)\ndate_end = datetime(2009, 12, 31)\n\ndate_scale = DateScale(min=date_start, max=date_end)",
      "metadata": {
        "trusted": true
      },
      "execution_count": null,
      "outputs": []
    },
    {
      "cell_type": "code",
      "source": "date_data = pd.date_range(start=date_start, end=date_end, freq='A', normalize=True)",
      "metadata": {
        "trusted": true
      },
      "execution_count": null,
      "outputs": []
    },
    {
      "cell_type": "code",
      "source": "country_name = 'Angola'\ndata_name = 'income'\n\nx_data = data[data.name == country_name][data_name].values[0]",
      "metadata": {
        "trusted": true
      },
      "execution_count": null,
      "outputs": []
    },
    {
      "cell_type": "code",
      "source": "x_scale = LinearScale()\n\nlines = Lines(x=date_data, y=x_data, scales={'x': date_scale, 'y': x_scale})\n\nax_x = Axis(label='Year', scale=date_scale, num_ticks=10, tick_format='%Y')\nax_y = Axis(label=data_name.capitalize(), scale=x_scale, orientation='vertical', side='left')\n\nfigure = Figure(axes=[ax_x, ax_y], title=country_name, marks=[lines], animation_duration=500,\n                layout={'max_height': '250px', 'max_width': '400px'})",
      "metadata": {
        "trusted": true
      },
      "execution_count": null,
      "outputs": []
    },
    {
      "cell_type": "code",
      "source": "def update_figure(country_name, data_name):\n    try:\n        lines.y = data[data.name == country_name][data_name].values[0]\n        ax_y.label = data_name.capitalize()\n        figure.title = country_name\n    except IndexError:\n        pass",
      "metadata": {
        "trusted": true
      },
      "execution_count": null,
      "outputs": []
    },
    {
      "cell_type": "code",
      "source": "URL = \"https://raw.githubusercontent.com/jupyter-widgets/ipyleaflet/master/examples/countries.geo.json\"\nresp = await fetch(URL)\ntext = io.BytesIO((await resp.arrayBuffer()).to_py())\ncountries = json.loads(text.read())",
      "metadata": {
        "trusted": true
      },
      "execution_count": null,
      "outputs": []
    },
    {
      "cell_type": "code",
      "source": "m = Map(zoom=3)\n\ngeo = GeoJSON(data=countries, style={'fillColor': 'white', 'weight': 0.5}, hover_style={'fillColor': '#1f77b4'}, name='Countries')\nm.add_layer(geo)",
      "metadata": {
        "trusted": true
      },
      "execution_count": null,
      "outputs": []
    },
    {
      "cell_type": "code",
      "source": "widget_control1 = WidgetControl(widget=figure, position='bottomright')\n\nm.add_control(widget_control1)\n\ndef on_hover(event, feature, **kwargs):\n    global country_name\n\n    country_name = feature['properties']['name']\n    update_figure(country_name, data_name)\n\ngeo.on_hover(on_hover)",
      "metadata": {
        "trusted": true
      },
      "execution_count": null,
      "outputs": []
    },
    {
      "cell_type": "code",
      "source": "dropdown = Dropdown(\n    options=['income', 'population', 'lifeExpectancy'],\n    value=data_name,\n    description='Plotting:'\n)\n\ndef on_click(change):\n    global data_name\n\n    data_name = change['new']\n    update_figure(country_name, data_name)\n\ndropdown.observe(on_click, 'value')\n\nwidget_control2 = WidgetControl(widget=dropdown, position='bottomleft')\n\nm.add_control(widget_control2)",
      "metadata": {
        "trusted": true
      },
      "execution_count": null,
      "outputs": []
    },
    {
      "cell_type": "code",
      "source": "m",
      "metadata": {
        "trusted": true
      },
      "execution_count": null,
      "outputs": []
    }
  ]
}
